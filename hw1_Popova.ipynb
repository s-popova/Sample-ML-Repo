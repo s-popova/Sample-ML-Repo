{
 "cells": [
  {
   "cell_type": "markdown",
   "id": "VvFvjNBH3QY3",
   "metadata": {
    "id": "VvFvjNBH3QY3"
   },
   "source": [
    "## Домашнее задание"
   ]
  },
  {
   "cell_type": "markdown",
   "id": "F1nB_pZ53TLc",
   "metadata": {
    "id": "F1nB_pZ53TLc"
   },
   "source": [
    "В этой тетрадке вам предлагается реализовать задания при помощи библиотеки numpy. Крайне желательно при выполнении разных заданий не использовать циклы. Если вы не понимаете, как выполнить конкретную задачу без циклов - убирайте их постепенно, разбейте выполнение задачи на этапы и постепенно векторизуйте каждый этап.\n",
    "\n",
    "Если вам непонятно, как выполнить ту или иную операцию - не стесняйтесь гуглить, если над вами повис дедлайн, а вы всё ещё на чём-то застряли - пишите преподу/в чат, это ок.\n",
    "\n",
    "**Обсудить решение лучше и сделать в итоге хоть что-то гораздо лучше, чем скатать чужой код или сдать пустую тетрадку.**"
   ]
  },
  {
   "cell_type": "code",
   "execution_count": 2,
   "id": "BxCGcHcxyAwh",
   "metadata": {
    "id": "BxCGcHcxyAwh"
   },
   "outputs": [],
   "source": [
    "import numpy as np"
   ]
  },
  {
   "cell_type": "markdown",
   "id": "byY0Ab4Jww36",
   "metadata": {
    "id": "byY0Ab4Jww36"
   },
   "source": [
    "### Drill (1 балл)"
   ]
  },
  {
   "cell_type": "markdown",
   "id": "g9nrcP5ExLOr",
   "metadata": {
    "id": "g9nrcP5ExLOr"
   },
   "source": [
    "Задание 1.\n",
    "\n",
    "Инициализируйте нулями массивы следующих форм:\n",
    "\n",
    "* (5)\n",
    "* (5, 1)\n",
    "* (10, 2)\n",
    "* (3, 6, 2)\n",
    "* (4, 3, 2, 1)"
   ]
  },
  {
   "cell_type": "code",
   "execution_count": 3,
   "id": "GDFryOCFwwO5",
   "metadata": {
    "id": "GDFryOCFwwO5"
   },
   "outputs": [],
   "source": [
    "m1 = np.zeros(5)\n",
    "m2 = np.zeros((5,1))\n",
    "m3 = np.zeros((10,2))\n",
    "m4 = np.zeros((3, 6, 2))\n",
    "m5 = np.zeros((4, 3, 2, 1))"
   ]
  },
  {
   "cell_type": "markdown",
   "id": "nB5ePY6S5AWx",
   "metadata": {
    "id": "nB5ePY6S5AWx"
   },
   "source": [
    "Задание 2.\n",
    "\n",
    "Инициализируйте единицами массивы таких же форм и приведите их к целочисленному виду:"
   ]
  },
  {
   "cell_type": "code",
   "execution_count": 16,
   "id": "bW7_oEBw5Ga8",
   "metadata": {
    "id": "bW7_oEBw5Ga8"
   },
   "outputs": [],
   "source": [
    "a1 = np.ones(5, int)\n",
    "a2 = np.ones((5,1), int)\n",
    "a3 = np.ones((10,2), int)\n",
    "a4 = np.ones((3, 6, 2), int)\n",
    "a5 = np.ones((4, 3, 2, 1), int)"
   ]
  },
  {
   "cell_type": "markdown",
   "id": "_S7FJFXexb3o",
   "metadata": {
    "id": "_S7FJFXexb3o"
   },
   "source": [
    "Задание 3.\n",
    "\n",
    "Выполните для векторов выше `reshape` в \"форму\"\n",
    "* с двумя компонентами\n",
    "* с тремя компонентами\n",
    "* с четырьмя компонентами"
   ]
  },
  {
   "cell_type": "code",
   "execution_count": 44,
   "id": "XDWmmsoYXBDP",
   "metadata": {
    "id": "XDWmmsoYXBDP"
   },
   "outputs": [],
   "source": [
    "r21 = np.reshape(m1, (5, 1))\n",
    "r22 = np.reshape(m2, (5, 1))\n",
    "r23 = np.reshape(m3, (2, -1))\n",
    "r24 = np.reshape(m4, (2,- 1))\n",
    "r25 = np.reshape(m5, (2,-1))\n"
   ]
  },
  {
   "cell_type": "code",
   "execution_count": 45,
   "id": "ae7c9540",
   "metadata": {},
   "outputs": [],
   "source": [
    "r31 = np.reshape(m1, (5, 1,1))\n",
    "r32 = np.reshape(m2, (5, 1,1))\n",
    "r33 = np.reshape(m3, (10,2,1))\n",
    "r34 = np.reshape(m4, (3,6,-1))\n",
    "r35 = np.reshape(m5, (3,2,-1))\n"
   ]
  },
  {
   "cell_type": "code",
   "execution_count": 46,
   "id": "18b02485",
   "metadata": {},
   "outputs": [],
   "source": [
    "r41 = np.reshape(m1, (5, 1,1,1))\n",
    "r42 = np.reshape(m2, (5, 1,1,1))\n",
    "r43 = np.reshape(m3, (10,2,1,1))\n",
    "r44 = np.reshape(m4, (3,6,-1,1))\n",
    "r45 = np.reshape(m5, (4,3,2,1))\n"
   ]
  },
  {
   "cell_type": "markdown",
   "id": "Kp3SvzHyxyPp",
   "metadata": {
    "id": "Kp3SvzHyxyPp"
   },
   "source": [
    "Задание 4.\n",
    "\n",
    "Для вектора ниже посчитайте его\n",
    "* Максимум по 1 оси\n",
    "* Минимум по 0 оси\n",
    "* Сумму по всем осям\n",
    "* Среднее по 0 оси\n",
    "* Медиану по 1 оси"
   ]
  },
  {
   "cell_type": "code",
   "execution_count": 47,
   "id": "5GcaTzGPx9Tk",
   "metadata": {
    "id": "5GcaTzGPx9Tk"
   },
   "outputs": [
    {
     "name": "stdout",
     "output_type": "stream",
     "text": [
      "[[1 0 5 1 3 4 5]\n",
      " [1 3 5 2 3 2 0]\n",
      " [6 2 1 5 3 7 4]\n",
      " [2 2 5 7 3 0 2]\n",
      " [5 7 1 2 8 0 6]]\n"
     ]
    }
   ],
   "source": [
    "v = np.random.randint(0, 9, size=(5, 7))\n",
    "print(v)"
   ]
  },
  {
   "cell_type": "code",
   "execution_count": 51,
   "id": "iZT6E7esxsI1",
   "metadata": {
    "id": "iZT6E7esxsI1"
   },
   "outputs": [
    {
     "data": {
      "text/plain": [
       "(array([5, 5, 7, 7, 8]),\n",
       " array([1, 0, 1, 1, 3, 0, 0]),\n",
       " 113,\n",
       " array([3. , 2.8, 3.4, 3.4, 4. , 2.6, 3.4]),\n",
       " array([3., 2., 4., 2., 5.]))"
      ]
     },
     "execution_count": 51,
     "metadata": {},
     "output_type": "execute_result"
    }
   ],
   "source": [
    "\n",
    "v.max(axis=1),v.min(axis=0),v.sum(), v.mean(axis=0), np.median(v, axis = 1)"
   ]
  },
  {
   "cell_type": "markdown",
   "id": "EiVqZFtpyOHm",
   "metadata": {
    "id": "EiVqZFtpyOHm"
   },
   "source": [
    "Задание 5.\n",
    "\n",
    "Для всё того же вектора `v` выведите\n",
    "* Его shape\n",
    "* 0 компоненту его \"формы\"\n",
    "* 1 компоненту его \"формы\""
   ]
  },
  {
   "cell_type": "code",
   "execution_count": 53,
   "id": "AazCPchWyYGa",
   "metadata": {
    "id": "AazCPchWyYGa"
   },
   "outputs": [
    {
     "name": "stdout",
     "output_type": "stream",
     "text": [
      "(5, 7)\n"
     ]
    }
   ],
   "source": [
    "print(v.shape)"
   ]
  },
  {
   "cell_type": "code",
   "execution_count": 58,
   "id": "02eb8e8c",
   "metadata": {},
   "outputs": [
    {
     "name": "stdout",
     "output_type": "stream",
     "text": [
      "1\n",
      "0\n"
     ]
    }
   ],
   "source": [
    "print(v[0,0])\n",
    "print(v[0,1])"
   ]
  },
  {
   "cell_type": "markdown",
   "id": "9bdU9sq1ygiF",
   "metadata": {
    "id": "9bdU9sq1ygiF"
   },
   "source": [
    "Задание 6.\n",
    "\n",
    "Для этого же вектора выведите\n",
    "* Все числа больше 5\n",
    "* Все числа меньше 7 в обратном порядке\n",
    "* Все числа больше 3, которые делятся на 4 без остатка\n",
    "* Все числа, остаток от деления на 5 которых равен 3\n",
    "* Индекс максимума\n",
    "* Индекс минимума\n",
    "* Cписок с индексами элементов отсортированного массива в исходном (неотсортированном)"
   ]
  },
  {
   "cell_type": "markdown",
   "id": "601cc16e",
   "metadata": {},
   "source": []
  },
  {
   "cell_type": "code",
   "execution_count": 56,
   "id": "WW0nmIYwyfLA",
   "metadata": {
    "id": "WW0nmIYwyfLA"
   },
   "outputs": [
    {
     "data": {
      "text/plain": [
       "array([6, 7, 7, 7, 8, 6])"
      ]
     },
     "execution_count": 56,
     "metadata": {},
     "output_type": "execute_result"
    }
   ],
   "source": [
    "v[v >5 ]"
   ]
  },
  {
   "cell_type": "code",
   "execution_count": 69,
   "id": "328d112a",
   "metadata": {},
   "outputs": [
    {
     "data": {
      "text/plain": [
       "array([6, 0, 2, 1, 5, 2, 0, 3, 5, 2, 2, 4, 3, 5, 1, 2, 6, 0, 2, 3, 2, 5,\n",
       "       3, 1, 5, 4, 3, 1, 5, 0, 1])"
      ]
     },
     "execution_count": 69,
     "metadata": {},
     "output_type": "execute_result"
    }
   ],
   "source": [
    "v1 = v[v <7 ]\n",
    "np.flip( v1, 0)"
   ]
  },
  {
   "cell_type": "code",
   "execution_count": 72,
   "id": "64997d0b",
   "metadata": {},
   "outputs": [
    {
     "data": {
      "text/plain": [
       "array([8])"
      ]
     },
     "execution_count": 72,
     "metadata": {},
     "output_type": "execute_result"
    }
   ],
   "source": [
    "v[(v >5) & (v% 4 == 0 )]"
   ]
  },
  {
   "cell_type": "code",
   "execution_count": 73,
   "id": "3609e7be",
   "metadata": {},
   "outputs": [
    {
     "data": {
      "text/plain": [
       "array([3, 3, 3, 3, 3, 8])"
      ]
     },
     "execution_count": 73,
     "metadata": {},
     "output_type": "execute_result"
    }
   ],
   "source": [
    "v[v %5==3 ]"
   ]
  },
  {
   "cell_type": "code",
   "execution_count": 75,
   "id": "10391238",
   "metadata": {},
   "outputs": [
    {
     "data": {
      "text/plain": [
       "1"
      ]
     },
     "execution_count": 75,
     "metadata": {},
     "output_type": "execute_result"
    }
   ],
   "source": [
    "v.argmin()"
   ]
  },
  {
   "cell_type": "code",
   "execution_count": 76,
   "id": "b027be68",
   "metadata": {},
   "outputs": [
    {
     "data": {
      "text/plain": [
       "32"
      ]
     },
     "execution_count": 76,
     "metadata": {},
     "output_type": "execute_result"
    }
   ],
   "source": [
    "v.argmax()"
   ]
  },
  {
   "cell_type": "code",
   "execution_count": 77,
   "id": "151d07b8",
   "metadata": {},
   "outputs": [
    {
     "data": {
      "text/plain": [
       "array([[1, 0, 3, 4, 5, 2, 6],\n",
       "       [6, 0, 3, 5, 1, 4, 2],\n",
       "       [2, 1, 4, 6, 3, 0, 5],\n",
       "       [5, 0, 1, 6, 4, 2, 3],\n",
       "       [5, 2, 3, 0, 6, 1, 4]], dtype=int64)"
      ]
     },
     "execution_count": 77,
     "metadata": {},
     "output_type": "execute_result"
    }
   ],
   "source": [
    "np.argsort(v)"
   ]
  },
  {
   "cell_type": "markdown",
   "id": "pd7gVNl9zN-s",
   "metadata": {
    "id": "pd7gVNl9zN-s"
   },
   "source": [
    "Задание 7.\n",
    "\n",
    "Выполните следующие операции над вектором (независимо, не обязательно делать это в последовательности):\n",
    "* Умножьте его на 3\n",
    "* Разделите на 7\n",
    "* Возведите в степень $\\frac{2}{3}$\n",
    "* Посчитайте $\\sin$ от него\n",
    "* Посчитайте $\\log$ от него"
   ]
  },
  {
   "cell_type": "code",
   "execution_count": 78,
   "id": "iTQeUeJ2zNkz",
   "metadata": {
    "id": "iTQeUeJ2zNkz"
   },
   "outputs": [
    {
     "data": {
      "text/plain": [
       "array([[ 3,  0, 15,  3,  9, 12, 15],\n",
       "       [ 3,  9, 15,  6,  9,  6,  0],\n",
       "       [18,  6,  3, 15,  9, 21, 12],\n",
       "       [ 6,  6, 15, 21,  9,  0,  6],\n",
       "       [15, 21,  3,  6, 24,  0, 18]])"
      ]
     },
     "execution_count": 78,
     "metadata": {},
     "output_type": "execute_result"
    }
   ],
   "source": [
    "v*3"
   ]
  },
  {
   "cell_type": "code",
   "execution_count": 79,
   "id": "eaeba46b",
   "metadata": {},
   "outputs": [
    {
     "data": {
      "text/plain": [
       "array([[0.14285714, 0.        , 0.71428571, 0.14285714, 0.42857143,\n",
       "        0.57142857, 0.71428571],\n",
       "       [0.14285714, 0.42857143, 0.71428571, 0.28571429, 0.42857143,\n",
       "        0.28571429, 0.        ],\n",
       "       [0.85714286, 0.28571429, 0.14285714, 0.71428571, 0.42857143,\n",
       "        1.        , 0.57142857],\n",
       "       [0.28571429, 0.28571429, 0.71428571, 1.        , 0.42857143,\n",
       "        0.        , 0.28571429],\n",
       "       [0.71428571, 1.        , 0.14285714, 0.28571429, 1.14285714,\n",
       "        0.        , 0.85714286]])"
      ]
     },
     "execution_count": 79,
     "metadata": {},
     "output_type": "execute_result"
    }
   ],
   "source": [
    "v/7"
   ]
  },
  {
   "cell_type": "code",
   "execution_count": 81,
   "id": "ec3d12ca",
   "metadata": {},
   "outputs": [
    {
     "data": {
      "text/plain": [
       "array([[1.        , 0.        , 2.92401774, 1.        , 2.08008382,\n",
       "        2.5198421 , 2.92401774],\n",
       "       [1.        , 2.08008382, 2.92401774, 1.58740105, 2.08008382,\n",
       "        1.58740105, 0.        ],\n",
       "       [3.30192725, 1.58740105, 1.        , 2.92401774, 2.08008382,\n",
       "        3.65930571, 2.5198421 ],\n",
       "       [1.58740105, 1.58740105, 2.92401774, 3.65930571, 2.08008382,\n",
       "        0.        , 1.58740105],\n",
       "       [2.92401774, 3.65930571, 1.        , 1.58740105, 4.        ,\n",
       "        0.        , 3.30192725]])"
      ]
     },
     "execution_count": 81,
     "metadata": {},
     "output_type": "execute_result"
    }
   ],
   "source": [
    "v**(2/3)"
   ]
  },
  {
   "cell_type": "code",
   "execution_count": 83,
   "id": "42b3f220",
   "metadata": {},
   "outputs": [
    {
     "data": {
      "text/plain": [
       "array([[ 0.84147098,  0.        , -0.95892427,  0.84147098,  0.14112001,\n",
       "        -0.7568025 , -0.95892427],\n",
       "       [ 0.84147098,  0.14112001, -0.95892427,  0.90929743,  0.14112001,\n",
       "         0.90929743,  0.        ],\n",
       "       [-0.2794155 ,  0.90929743,  0.84147098, -0.95892427,  0.14112001,\n",
       "         0.6569866 , -0.7568025 ],\n",
       "       [ 0.90929743,  0.90929743, -0.95892427,  0.6569866 ,  0.14112001,\n",
       "         0.        ,  0.90929743],\n",
       "       [-0.95892427,  0.6569866 ,  0.84147098,  0.90929743,  0.98935825,\n",
       "         0.        , -0.2794155 ]])"
      ]
     },
     "execution_count": 83,
     "metadata": {},
     "output_type": "execute_result"
    }
   ],
   "source": [
    "np.sin(v)"
   ]
  },
  {
   "cell_type": "code",
   "execution_count": 86,
   "id": "626edc76",
   "metadata": {},
   "outputs": [
    {
     "name": "stderr",
     "output_type": "stream",
     "text": [
      "<ipython-input-86-4062a2f5d71c>:1: RuntimeWarning: divide by zero encountered in log\n",
      "  np.log(v)\n"
     ]
    },
    {
     "data": {
      "text/plain": [
       "array([[0.        ,       -inf, 1.60943791, 0.        , 1.09861229,\n",
       "        1.38629436, 1.60943791],\n",
       "       [0.        , 1.09861229, 1.60943791, 0.69314718, 1.09861229,\n",
       "        0.69314718,       -inf],\n",
       "       [1.79175947, 0.69314718, 0.        , 1.60943791, 1.09861229,\n",
       "        1.94591015, 1.38629436],\n",
       "       [0.69314718, 0.69314718, 1.60943791, 1.94591015, 1.09861229,\n",
       "              -inf, 0.69314718],\n",
       "       [1.60943791, 1.94591015, 0.        , 0.69314718, 2.07944154,\n",
       "              -inf, 1.79175947]])"
      ]
     },
     "execution_count": 86,
     "metadata": {},
     "output_type": "execute_result"
    }
   ],
   "source": [
    "np.log(v)"
   ]
  },
  {
   "cell_type": "markdown",
   "id": "Njvzyat9w9Jw",
   "metadata": {
    "id": "Njvzyat9w9Jw"
   },
   "source": [
    "### Разные инициализации + индексирование (3 балла)"
   ]
  },
  {
   "cell_type": "markdown",
   "id": "IXB2M-hrB1C5",
   "metadata": {
    "id": "IXB2M-hrB1C5"
   },
   "source": [
    "Задание 8.\n",
    "\n",
    "Необходимо построить квадрат $3 \\times 3$ из нечётных чисел"
   ]
  },
  {
   "cell_type": "code",
   "execution_count": 106,
   "id": "0pnAlUNO8w1h",
   "metadata": {
    "id": "0pnAlUNO8w1h"
   },
   "outputs": [
    {
     "data": {
      "text/plain": [
       "array([[-1.,  1.,  3.],\n",
       "       [ 1.,  3.,  5.],\n",
       "       [ 3.,  5.,  7.]])"
      ]
     },
     "execution_count": 106,
     "metadata": {},
     "output_type": "execute_result"
    }
   ],
   "source": [
    " def f1(i, j):\n",
    "    return 2*(i+j)-1\n",
    "np.fromfunction(f1, (3, 3))"
   ]
  },
  {
   "cell_type": "markdown",
   "id": "HmlcbwtOB5OT",
   "metadata": {
    "id": "HmlcbwtOB5OT"
   },
   "source": [
    "Задание 9.\n",
    "\n",
    "Необходимо построить квадрат $4 \\times 4$ из четных чисел в обратном порядке"
   ]
  },
  {
   "cell_type": "code",
   "execution_count": 115,
   "id": "W0lqLNBB81-U",
   "metadata": {
    "id": "W0lqLNBB81-U"
   },
   "outputs": [
    {
     "name": "stdout",
     "output_type": "stream",
     "text": [
      "[[30 28 26 24]\n",
      " [22 20 18 16]\n",
      " [14 12 10  8]\n",
      " [ 6  4  2  0]]\n"
     ]
    }
   ],
   "source": [
    "m = np.arange(0,31 , 2)\n",
    "m =  np.flip( m, 0)\n",
    "m = np.reshape(m, (4,4))\n",
    "print(m)"
   ]
  },
  {
   "cell_type": "markdown",
   "id": "IeOvIqrFB8zI",
   "metadata": {
    "id": "IeOvIqrFB8zI"
   },
   "source": [
    "Задание 10.\n",
    "\n",
    "Необходимо построить сетку координат $11 \\times 11$ с точкой $(0,0)$ в центре и шагом $0.1$ между клетками"
   ]
  },
  {
   "cell_type": "code",
   "execution_count": 118,
   "id": "gXTZFQzd84lY",
   "metadata": {
    "id": "gXTZFQzd84lY"
   },
   "outputs": [
    {
     "data": {
      "image/png": "[encoded data removed]",
      "text/plain": [
       "<Figure size 432x288 with 1 Axes>"
      ]
     },
     "metadata": {
      "needs_background": "light"
     },
     "output_type": "display_data"
    }
   ],
   "source": [
    "import matplotlib.pyplot as plt\n",
    "%matplotlib inline\n",
    "X = np.linspace(-0.5,0.5,11)\n",
    "\n",
    "Y = np.linspace(-0.5,0.5,11)\n",
    "\n",
    "xx, yy = np.meshgrid(X,Y)\n",
    "\n",
    "fig = plt.figure()\n",
    "\n",
    "ax = fig.add_subplot(111)\n",
    "\n",
    "ax.plot(xx, yy, ls=\"None\", marker=\".\")\n",
    "\n",
    "plt.show()"
   ]
  },
  {
   "cell_type": "code",
   "execution_count": 120,
   "id": "28f71b7e",
   "metadata": {},
   "outputs": [
    {
     "data": {
      "text/plain": [
       "array([[-0.5, -0.4, -0.3, -0.2, -0.1,  0. ,  0.1,  0.2,  0.3,  0.4,  0.5],\n",
       "       [-0.5, -0.4, -0.3, -0.2, -0.1,  0. ,  0.1,  0.2,  0.3,  0.4,  0.5],\n",
       "       [-0.5, -0.4, -0.3, -0.2, -0.1,  0. ,  0.1,  0.2,  0.3,  0.4,  0.5],\n",
       "       [-0.5, -0.4, -0.3, -0.2, -0.1,  0. ,  0.1,  0.2,  0.3,  0.4,  0.5],\n",
       "       [-0.5, -0.4, -0.3, -0.2, -0.1,  0. ,  0.1,  0.2,  0.3,  0.4,  0.5],\n",
       "       [-0.5, -0.4, -0.3, -0.2, -0.1,  0. ,  0.1,  0.2,  0.3,  0.4,  0.5],\n",
       "       [-0.5, -0.4, -0.3, -0.2, -0.1,  0. ,  0.1,  0.2,  0.3,  0.4,  0.5],\n",
       "       [-0.5, -0.4, -0.3, -0.2, -0.1,  0. ,  0.1,  0.2,  0.3,  0.4,  0.5],\n",
       "       [-0.5, -0.4, -0.3, -0.2, -0.1,  0. ,  0.1,  0.2,  0.3,  0.4,  0.5],\n",
       "       [-0.5, -0.4, -0.3, -0.2, -0.1,  0. ,  0.1,  0.2,  0.3,  0.4,  0.5],\n",
       "       [-0.5, -0.4, -0.3, -0.2, -0.1,  0. ,  0.1,  0.2,  0.3,  0.4,  0.5]])"
      ]
     },
     "execution_count": 120,
     "metadata": {},
     "output_type": "execute_result"
    }
   ],
   "source": [
    "xx"
   ]
  },
  {
   "cell_type": "code",
   "execution_count": 121,
   "id": "ebf013d0",
   "metadata": {},
   "outputs": [
    {
     "data": {
      "text/plain": [
       "array([[-0.5, -0.5, -0.5, -0.5, -0.5, -0.5, -0.5, -0.5, -0.5, -0.5, -0.5],\n",
       "       [-0.4, -0.4, -0.4, -0.4, -0.4, -0.4, -0.4, -0.4, -0.4, -0.4, -0.4],\n",
       "       [-0.3, -0.3, -0.3, -0.3, -0.3, -0.3, -0.3, -0.3, -0.3, -0.3, -0.3],\n",
       "       [-0.2, -0.2, -0.2, -0.2, -0.2, -0.2, -0.2, -0.2, -0.2, -0.2, -0.2],\n",
       "       [-0.1, -0.1, -0.1, -0.1, -0.1, -0.1, -0.1, -0.1, -0.1, -0.1, -0.1],\n",
       "       [ 0. ,  0. ,  0. ,  0. ,  0. ,  0. ,  0. ,  0. ,  0. ,  0. ,  0. ],\n",
       "       [ 0.1,  0.1,  0.1,  0.1,  0.1,  0.1,  0.1,  0.1,  0.1,  0.1,  0.1],\n",
       "       [ 0.2,  0.2,  0.2,  0.2,  0.2,  0.2,  0.2,  0.2,  0.2,  0.2,  0.2],\n",
       "       [ 0.3,  0.3,  0.3,  0.3,  0.3,  0.3,  0.3,  0.3,  0.3,  0.3,  0.3],\n",
       "       [ 0.4,  0.4,  0.4,  0.4,  0.4,  0.4,  0.4,  0.4,  0.4,  0.4,  0.4],\n",
       "       [ 0.5,  0.5,  0.5,  0.5,  0.5,  0.5,  0.5,  0.5,  0.5,  0.5,  0.5]])"
      ]
     },
     "execution_count": 121,
     "metadata": {},
     "output_type": "execute_result"
    }
   ],
   "source": [
    "yy"
   ]
  },
  {
   "cell_type": "markdown",
   "id": "BQD_BNN-CqCm",
   "metadata": {
    "id": "BQD_BNN-CqCm"
   },
   "source": [
    "Задание 11.\n",
    "\n",
    "Замощение сетки $8\\times8$ при помощи $0$ и $1$ в шахматном порядке, клетка с индексом $(0,0)$ замощается $1$"
   ]
  },
  {
   "cell_type": "code",
   "execution_count": 127,
   "id": "whMdrRLx9G8Y",
   "metadata": {
    "id": "whMdrRLx9G8Y"
   },
   "outputs": [
    {
     "data": {
      "image/png": "[encoded data removed]",
      "text/plain": [
       "<Figure size 432x288 with 1 Axes>"
      ]
     },
     "metadata": {
      "needs_background": "light"
     },
     "output_type": "display_data"
    }
   ],
   "source": [
    "X = np.linspace(0,7,8)\n",
    "\n",
    "Y = np.linspace(0,7,8)\n",
    "\n",
    "xx, yy = np.meshgrid(X,Y)\n",
    "\n",
    "fig = plt.figure()\n",
    "\n",
    "ax = fig.add_subplot(111)\n",
    "\n",
    "ax.plot(xx, yy, ls=\"None\", marker=\"1\")\n",
    "\n",
    "plt.show()"
   ]
  },
  {
   "cell_type": "code",
   "execution_count": 126,
   "id": "354e63b4",
   "metadata": {},
   "outputs": [
    {
     "data": {
      "text/plain": [
       "array([0, 1, 2, 3, 4, 5, 6, 7])"
      ]
     },
     "execution_count": 126,
     "metadata": {},
     "output_type": "execute_result"
    }
   ],
   "source": [
    "x= np.arange(0,8,1)"
   ]
  },
  {
   "cell_type": "code",
   "execution_count": 129,
   "id": "4dd1033b",
   "metadata": {},
   "outputs": [
    {
     "data": {
      "text/plain": [
       "[array([[0., 1., 2., 3., 4., 5., 6., 7.],\n",
       "        [0., 1., 2., 3., 4., 5., 6., 7.],\n",
       "        [0., 1., 2., 3., 4., 5., 6., 7.],\n",
       "        [0., 1., 2., 3., 4., 5., 6., 7.],\n",
       "        [0., 1., 2., 3., 4., 5., 6., 7.],\n",
       "        [0., 1., 2., 3., 4., 5., 6., 7.],\n",
       "        [0., 1., 2., 3., 4., 5., 6., 7.],\n",
       "        [0., 1., 2., 3., 4., 5., 6., 7.]]),\n",
       " array([[0., 0., 0., 0., 0., 0., 0., 0.],\n",
       "        [1., 1., 1., 1., 1., 1., 1., 1.],\n",
       "        [2., 2., 2., 2., 2., 2., 2., 2.],\n",
       "        [3., 3., 3., 3., 3., 3., 3., 3.],\n",
       "        [4., 4., 4., 4., 4., 4., 4., 4.],\n",
       "        [5., 5., 5., 5., 5., 5., 5., 5.],\n",
       "        [6., 6., 6., 6., 6., 6., 6., 6.],\n",
       "        [7., 7., 7., 7., 7., 7., 7., 7.]])]"
      ]
     },
     "execution_count": 129,
     "metadata": {},
     "output_type": "execute_result"
    }
   ],
   "source": [
    "np.meshgrid(X,Y)"
   ]
  },
  {
   "cell_type": "code",
   "execution_count": 136,
   "id": "5ee92770",
   "metadata": {},
   "outputs": [
    {
     "data": {
      "text/plain": [
       "array([ 1,  2,  3,  4,  5,  6,  7,  8,  9, 10, 11, 12, 13, 14, 15, 16, 17,\n",
       "       18, 19, 20, 21, 22, 23, 24, 25, 26, 27, 28, 29, 30, 31, 32, 33, 34,\n",
       "       35, 36, 37, 38, 39, 40, 41, 42, 43, 44, 45, 46, 47, 48, 49, 50, 51,\n",
       "       52, 53, 54, 55, 56, 57, 58, 59, 60, 61, 62, 63, 64])"
      ]
     },
     "execution_count": 136,
     "metadata": {},
     "output_type": "execute_result"
    }
   ],
   "source": [
    "x= np.arange(1,65,1)\n",
    "x"
   ]
  },
  {
   "cell_type": "code",
   "execution_count": 137,
   "id": "77ca404d",
   "metadata": {},
   "outputs": [
    {
     "data": {
      "text/plain": [
       "array([[1, 0, 1, 0, 1, 0, 1, 0],\n",
       "       [1, 0, 1, 0, 1, 0, 1, 0],\n",
       "       [1, 0, 1, 0, 1, 0, 1, 0],\n",
       "       [1, 0, 1, 0, 1, 0, 1, 0],\n",
       "       [1, 0, 1, 0, 1, 0, 1, 0],\n",
       "       [1, 0, 1, 0, 1, 0, 1, 0],\n",
       "       [1, 0, 1, 0, 1, 0, 1, 0],\n",
       "       [1, 0, 1, 0, 1, 0, 1, 0]], dtype=int32)"
      ]
     },
     "execution_count": 137,
     "metadata": {},
     "output_type": "execute_result"
    }
   ],
   "source": [
    "x = np.reshape(x%2, (8,8))\n",
    "x"
   ]
  },
  {
   "cell_type": "markdown",
   "id": "5tl1is5hCxH7",
   "metadata": {
    "id": "5tl1is5hCxH7"
   },
   "source": [
    "Задание 12.\n",
    "\n",
    "То же замощение, но клетка с индексом $(0,0)$ замощается $0$"
   ]
  },
  {
   "cell_type": "code",
   "execution_count": 139,
   "id": "TP8Risy79TkG",
   "metadata": {
    "id": "TP8Risy79TkG"
   },
   "outputs": [
    {
     "data": {
      "text/plain": [
       "array([[0, 1, 0, 1, 0, 1, 0, 1],\n",
       "       [0, 1, 0, 1, 0, 1, 0, 1],\n",
       "       [0, 1, 0, 1, 0, 1, 0, 1],\n",
       "       [0, 1, 0, 1, 0, 1, 0, 1],\n",
       "       [0, 1, 0, 1, 0, 1, 0, 1],\n",
       "       [0, 1, 0, 1, 0, 1, 0, 1],\n",
       "       [0, 1, 0, 1, 0, 1, 0, 1],\n",
       "       [0, 1, 0, 1, 0, 1, 0, 1]], dtype=int32)"
      ]
     },
     "execution_count": 139,
     "metadata": {},
     "output_type": "execute_result"
    }
   ],
   "source": [
    "x= np.arange(0,64,1)\n",
    "x = np.reshape(x%2, (8,8))\n",
    "x"
   ]
  },
  {
   "cell_type": "markdown",
   "id": "xwut71HZC401",
   "metadata": {
    "id": "xwut71HZC401"
   },
   "source": [
    "Задание 13.\n",
    "\n",
    "Необходимо построить нижне-треугольную матрицу переменного размера (задается передачей параметра в функцию). Это единичная матрица,замощённая $1$ под главной диагональю"
   ]
  },
  {
   "cell_type": "code",
   "execution_count": 143,
   "id": "f819Rv2uxDOz",
   "metadata": {
    "id": "f819Rv2uxDOz"
   },
   "outputs": [],
   "source": [
    "def my_matrix(n):\n",
    "    return np.tri(n)"
   ]
  },
  {
   "cell_type": "code",
   "execution_count": 144,
   "id": "dbf7b2e0",
   "metadata": {},
   "outputs": [
    {
     "data": {
      "text/plain": [
       "array([[1., 0., 0.],\n",
       "       [1., 1., 0.],\n",
       "       [1., 1., 1.]])"
      ]
     },
     "execution_count": 144,
     "metadata": {},
     "output_type": "execute_result"
    }
   ],
   "source": [
    "my_matrix(3)"
   ]
  },
  {
   "cell_type": "markdown",
   "id": "vhkgdaj3DGGr",
   "metadata": {
    "id": "vhkgdaj3DGGr"
   },
   "source": [
    "Задание 14.\n",
    "\n",
    "Необходимо построить верхне-треугольную матрицу переменного размера. Это единичная матрица, замощённая $1$ над главной диагональю"
   ]
  },
  {
   "cell_type": "code",
   "execution_count": 154,
   "id": "bwsDUhYT9kP0",
   "metadata": {
    "id": "bwsDUhYT9kP0"
   },
   "outputs": [],
   "source": [
    "def my_matrix2(n):\n",
    "    x = np.ones(n )\n",
    "    return np.triu(x)"
   ]
  },
  {
   "cell_type": "code",
   "execution_count": 155,
   "id": "6445da68",
   "metadata": {},
   "outputs": [
    {
     "data": {
      "text/plain": [
       "array([[1., 1., 1.],\n",
       "       [0., 1., 1.],\n",
       "       [0., 0., 1.]])"
      ]
     },
     "execution_count": 155,
     "metadata": {},
     "output_type": "execute_result"
    }
   ],
   "source": [
    " my_matrix2(3)"
   ]
  },
  {
   "cell_type": "markdown",
   "id": "L2HbqtTjDM1a",
   "metadata": {
    "id": "L2HbqtTjDM1a"
   },
   "source": [
    "Задание 15.\n",
    "\n",
    "Необходимо построить матрицу, в которой единицы стоят на побочной диагонали (идущей из левого нижнего угла в правый верхний), в остальных местах стоят $0$"
   ]
  },
  {
   "cell_type": "code",
   "execution_count": 165,
   "id": "vM6ez-K69to2",
   "metadata": {
    "id": "vM6ez-K69to2"
   },
   "outputs": [],
   "source": [
    "def my_matrix3(n):\n",
    "    x = np.eye(n)\n",
    "    return np.fliplr(x)"
   ]
  },
  {
   "cell_type": "code",
   "execution_count": 167,
   "id": "ecedcd08",
   "metadata": {},
   "outputs": [
    {
     "data": {
      "text/plain": [
       "array([[0., 0., 1.],\n",
       "       [0., 1., 0.],\n",
       "       [1., 0., 0.]])"
      ]
     },
     "execution_count": 167,
     "metadata": {},
     "output_type": "execute_result"
    }
   ],
   "source": [
    " my_matrix3(3)"
   ]
  },
  {
   "cell_type": "markdown",
   "id": "xeL6jav0w0U-",
   "metadata": {
    "id": "xeL6jav0w0U-"
   },
   "source": [
    "### Операции + аггрегации (3 балла)"
   ]
  },
  {
   "cell_type": "markdown",
   "id": "vOPIAFopHUKs",
   "metadata": {
    "id": "vOPIAFopHUKs"
   },
   "source": [
    "Задание 16.\n",
    "\n",
    "Дана выборка $\\{X_i\\}$ некоторой случайной величины $X$, необходимо оценить\n",
    "* Математическое ожидание $E[X] = \\frac{1}{N}\\sum_{i=1}^N X_i$ этой случайной величины\n",
    "* Дисперсию $D[X] = \\frac{1}{N}\\sum_{i=1}^N (X_i - E[X])^2$ этой случайной величины"
   ]
  },
  {
   "cell_type": "code",
   "execution_count": 171,
   "id": "uHQ-DiR4JB0p",
   "metadata": {
    "id": "uHQ-DiR4JB0p"
   },
   "outputs": [],
   "source": [
    "def expected_value(x):\n",
    "    assert len(x) > 0\n",
    "    return sum(x) / len(x)\n",
    "\n",
    "\n",
    "def dispersion(x):\n",
    "    assert len(x) > 0\n",
    "    d = 0\n",
    "    e = expected_value(x)\n",
    "    for x_i in x:\n",
    "        d += (x_i - e) ** 2\n",
    "    return d / len(x)"
   ]
  },
  {
   "cell_type": "code",
   "execution_count": 172,
   "id": "XVFo8hitHSav",
   "metadata": {
    "id": "XVFo8hitHSav"
   },
   "outputs": [],
   "source": [
    "def expected_value_np(x):\n",
    "    assert len(x) > 0\n",
    "    return np.sum(x)/len(x)"
   ]
  },
  {
   "cell_type": "code",
   "execution_count": 173,
   "id": "f2jCC5EjJkl0",
   "metadata": {
    "id": "f2jCC5EjJkl0"
   },
   "outputs": [],
   "source": [
    "def dispersion_np(x):\n",
    "    assert len(x) > 0\n",
    "    return np.var(x)"
   ]
  },
  {
   "cell_type": "code",
   "execution_count": 174,
   "id": "dEGp_cuFJoX9",
   "metadata": {
    "id": "dEGp_cuFJoX9"
   },
   "outputs": [],
   "source": [
    "np.testing.assert_array_equal(expected_value([1]), expected_value_np(np.array([1])))\n",
    "np.testing.assert_array_equal(expected_value([3, 4]), expected_value_np(np.array([3, 4])))\n",
    "np.testing.assert_array_equal(expected_value([-1, 0, 1]), expected_value_np(np.array([-1, 0, 1])))\n",
    "np.testing.assert_array_equal(expected_value([-99, -98]), expected_value_np(np.array([-99, -98])))\n",
    "\n",
    "np.testing.assert_array_equal(dispersion([1]), dispersion_np(np.array([1])))\n",
    "np.testing.assert_array_equal(dispersion([3, 4]), dispersion_np(np.array([3, 4])))\n",
    "np.testing.assert_array_equal(dispersion([-1, 0, 1]), dispersion_np(np.array([-1, 0, 1])))\n",
    "np.testing.assert_array_equal(dispersion([-99, -98]), dispersion_np(np.array([-99, -98])))"
   ]
  },
  {
   "cell_type": "markdown",
   "id": "BO9aCDmYBf1R",
   "metadata": {
    "id": "BO9aCDmYBf1R"
   },
   "source": [
    "Задание 17.\n",
    "\n",
    "Даны два вектора $y_1$ и $y_2$, нужно посчитать среднее арифметическое квадратов разностей их значений"
   ]
  },
  {
   "cell_type": "code",
   "execution_count": 192,
   "id": "5ZgYjfj5KW4g",
   "metadata": {
    "id": "5ZgYjfj5KW4g"
   },
   "outputs": [],
   "source": [
    "def mean_square_difference(y1, y2):\n",
    "    assert len(y1) == len(y2) and len(y1) > 0\n",
    "    # Здесь и далее эти проверки !не нужно! дублировать в свои функции; Здесь они для того, чтобы лишний раз подчеркнуть валидность входных данных\n",
    "    s = 0\n",
    "    for i in range(len(y1)):\n",
    "        s += (y1[i] - y2[i]) ** 2\n",
    "    return s / len(y1)"
   ]
  },
  {
   "cell_type": "code",
   "execution_count": 200,
   "id": "r3kxTnLlw7dA",
   "metadata": {
    "id": "r3kxTnLlw7dA"
   },
   "outputs": [],
   "source": [
    "def mean_square_difference_np(y1, y2):\n",
    "    x = np.array(y1)\n",
    "    y = np.array(y2)\n",
    "    return np.sum((x-y)**2)/len(y1)"
   ]
  },
  {
   "cell_type": "code",
   "execution_count": 201,
   "id": "CVuNT_iRKrFM",
   "metadata": {
    "id": "CVuNT_iRKrFM"
   },
   "outputs": [],
   "source": [
    "assert mean_square_difference([1], [1]) == mean_square_difference_np(np.array([1]), np.array([1]))\n",
    "assert mean_square_difference([1, 2], [1, 2]) == mean_square_difference_np(np.array([1, 2]), np.array([1, 2]))\n",
    "assert mean_square_difference([-1, 1], [0, 0]) == mean_square_difference_np(np.array([-1, 1]), np.array([0, 0]))\n",
    "assert mean_square_difference([-3, -2, 0, 1, 4], [-2, -2, -1, -1, 5]) == mean_square_difference_np(np.array([-3, -2, 0, 1, 4]), np.array([-2, -2, -1, -1, 5]))"
   ]
  },
  {
   "cell_type": "markdown",
   "id": "FlYEqBJuBeX_",
   "metadata": {
    "id": "FlYEqBJuBeX_"
   },
   "source": [
    "Задание 18.\n",
    "\n",
    "Даны два вектора $y_1$ и $y_2$, нужно посчитать среднее арифметическое модулей разностей их значений"
   ]
  },
  {
   "cell_type": "code",
   "execution_count": 202,
   "id": "YYFm_USNLR0g",
   "metadata": {
    "id": "YYFm_USNLR0g"
   },
   "outputs": [],
   "source": [
    "def mean_abs_difference(y1, y2):\n",
    "    assert len(y1) == len(y2) and len(y1) > 0\n",
    "    s = 0\n",
    "    for i in range(len(y1)):\n",
    "        s += abs(y1[i] - y2[i])\n",
    "    return s / len(y1)"
   ]
  },
  {
   "cell_type": "code",
   "execution_count": 206,
   "id": "YND9wAXGLSrU",
   "metadata": {
    "id": "YND9wAXGLSrU"
   },
   "outputs": [],
   "source": [
    "def mean_abs_difference_np(y1, y2):\n",
    "    x = np.array(y1)\n",
    "    y = np.array(y2)\n",
    "    m=np.absolute(x-y)\n",
    "    return np.sum(m)/len(y1)"
   ]
  },
  {
   "cell_type": "code",
   "execution_count": 207,
   "id": "a6AVnlOp-N_E",
   "metadata": {
    "id": "a6AVnlOp-N_E"
   },
   "outputs": [],
   "source": [
    "assert mean_abs_difference([1], [1]) == mean_abs_difference_np(np.array([1]), np.array([1]))\n",
    "assert mean_abs_difference([1, 2], [1, 2]) == mean_abs_difference_np(np.array([1, 2]), np.array([1, 2]))\n",
    "assert mean_abs_difference([-1, 1], [0, 0]) == mean_abs_difference_np(np.array([-1, 1]), np.array([0, 0]))\n",
    "assert mean_abs_difference([-3, -2, 0, 1, 4], [-2, -2, -1, -1, 5]) == mean_abs_difference_np(np.array([-3, -2, 0, 1, 4]), np.array([-2, -2, -1, -1, 5]))"
   ]
  },
  {
   "cell_type": "markdown",
   "id": "MCJcY2TDBVX2",
   "metadata": {
    "id": "MCJcY2TDBVX2"
   },
   "source": [
    "Задание 19.\n",
    "\n",
    "Даны два вектора $y_1$ и $y_2$, в которых присутствуют только $0$ и $1$. Необходимо посчитать вероятность совпадения - в скольких точках значения двух векторов совпадают"
   ]
  },
  {
   "cell_type": "code",
   "execution_count": 209,
   "id": "MFRHNu3RLdAM",
   "metadata": {
    "id": "MFRHNu3RLdAM"
   },
   "outputs": [],
   "source": [
    "def matching_proba(y1, y2):\n",
    "    assert len(y1) == len(y2) and len(y1) > 0\n",
    "    assert len(set(y1)) <= 2\n",
    "    assert len(set(y2)) <= 2\n",
    "    assert 0 in set(y1) or 1 in set(y1) or (0 in set(y1) and 1 in set(y1))\n",
    "    assert 0 in set(y2) or 1 in set(y2) or (0 in set(y2) and 1 in set(y2))\n",
    "\n",
    "    return sum([y1[i] == y2[i] for i in range(len(y1))]) / len(y1)"
   ]
  },
  {
   "cell_type": "code",
   "execution_count": 225,
   "id": "C48P4bQBMnZQ",
   "metadata": {
    "id": "C48P4bQBMnZQ"
   },
   "outputs": [],
   "source": [
    "def matching_proba_np(y1, y2):\n",
    "    x = np.array(y1)\n",
    "    y = np.array(y2)\n",
    "    m=x-y\n",
    "    return len ( m [ m == 0 ])/len(y1)"
   ]
  },
  {
   "cell_type": "code",
   "execution_count": 226,
   "id": "-DDiBxPEMZwu",
   "metadata": {
    "id": "-DDiBxPEMZwu"
   },
   "outputs": [],
   "source": [
    "np.testing.assert_array_equal(matching_proba([0, 1], [1, 0]), matching_proba_np(np.array([0, 1]), np.array([1, 0])))\n",
    "np.testing.assert_array_equal(matching_proba([0, 1, 0, 1], [0, 0, 1, 1]), matching_proba_np(np.array([0, 1, 0, 1]), np.array([0, 0, 1, 1])))\n",
    "np.testing.assert_array_equal(matching_proba([0, 0, 1, 1], [0, 0, 1, 1]), matching_proba_np(np.array([0, 0, 1, 1]), np.array([0, 0, 1, 1])))"
   ]
  }
 ],
 "metadata": {
  "colab": {
   "collapsed_sections": [],
   "name": "ML_HW1_numpy.ipynb",
   "provenance": []
  },
  "kernelspec": {
   "display_name": "Python 3",
   "language": "python",
   "name": "python3"
  },
  "language_info": {
   "codemirror_mode": {
    "name": "ipython",
    "version": 3
   },
   "file_extension": ".py",
   "mimetype": "text/x-python",
   "name": "python",
   "nbconvert_exporter": "python",
   "pygments_lexer": "ipython3",
   "version": "3.8.8"
  }
 },
 "nbformat": 4,
 "nbformat_minor": 5
}
